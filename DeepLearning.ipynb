{
  "nbformat": 4,
  "nbformat_minor": 0,
  "metadata": {
    "colab": {
      "name": "DeepLearning.ipynb",
      "provenance": []
    },
    "kernelspec": {
      "name": "python3",
      "display_name": "Python 3"
    }
  },
  "cells": [
    {
      "cell_type": "markdown",
      "metadata": {
        "id": "NsozC17NVF6T",
        "colab_type": "text"
      },
      "source": [
        "## Deep Learning\n",
        "\n",
        "Introdução\n"
      ]
    },
    {
      "cell_type": "code",
      "metadata": {
        "id": "RmZpbB38MRAi",
        "colab_type": "code",
        "colab": {}
      },
      "source": [
        "from matplotlib import pyplot"
      ],
      "execution_count": 0,
      "outputs": []
    },
    {
      "cell_type": "markdown",
      "metadata": {
        "id": "lYaqrHKZRlS9",
        "colab_type": "text"
      },
      "source": [
        "- Regressão logística\n",
        "- Loss function\n",
        "- Derivadas\n",
        "  - 1/m * (np.sum(dz))\n",
        "- Gradiente descendente\n",
        "- Funções de ativação\n",
        "  - ReLU, Leaky ReLU\n",
        "  - Tanh\n",
        "  - Sigmóide\n",
        "  "
      ]
    },
    {
      "cell_type": "markdown",
      "metadata": {
        "id": "8bpsdIrX0tDw",
        "colab_type": "text"
      },
      "source": [
        "Exercícios\n",
        "\n",
        "- Playground: Redes neurais com [TensorFlow](https://developers.google.com/machine-learning/crash-course/introduction-to-neural-networks/playground-exercises)\n",
        "\n",
        "- [Intro](https://colab.research.google.com/notebooks/mlcc/intro_to_neural_nets.ipynb?utm_source=mlcc&utm_campaign=colab-external&utm_medium=referral&utm_content=introneuralnets-colab&hl=pt) neural networks\n",
        "\n",
        "- [Planar data classification](https://github.com/Kulbear/deep-learning-coursera/blob/master/Neural%20Networks%20and%20Deep%20Learning/Planar%20data%20classification%20with%20one%20hidden%20layer.ipynb)\n",
        "\n",
        "Links úteis:\n",
        "\n",
        "- [DL course](https://tensorchiefs.github.io/dl_course/)"
      ]
    },
    {
      "cell_type": "markdown",
      "metadata": {
        "id": "VQ0RvnUcMsXG",
        "colab_type": "text"
      },
      "source": [
        "**ReLU function**"
      ]
    },
    {
      "cell_type": "code",
      "metadata": {
        "id": "xA_0xqlzMhhG",
        "colab_type": "code",
        "colab": {}
      },
      "source": [
        "# rectified linear function\n",
        "def rectified(x):\n",
        "\treturn max(0.0, x)"
      ],
      "execution_count": 0,
      "outputs": []
    },
    {
      "cell_type": "code",
      "metadata": {
        "id": "AMhIajmjMUkJ",
        "colab_type": "code",
        "colab": {}
      },
      "source": [
        "# define a series of inputs\n",
        "series_in = [x for x in range(-10, 11)]\n",
        "# calculate outputs for our inputs\n",
        "series_out = [rectified(x) for x in series_in]"
      ],
      "execution_count": 0,
      "outputs": []
    },
    {
      "cell_type": "code",
      "metadata": {
        "id": "7Q6T4QmiMYre",
        "colab_type": "code",
        "colab": {
          "base_uri": "https://localhost:8080/",
          "height": 265
        },
        "outputId": "64db94c6-c1b8-468b-e9ab-85da9160c8aa"
      },
      "source": [
        "# line plot of raw inputs to rectified outputs\n",
        "pyplot.plot(series_in, series_out)\n",
        "pyplot.show()"
      ],
      "execution_count": 3,
      "outputs": [
        {
          "output_type": "display_data",
          "data": {
            "image/png": "[encoded data removed]",
            "text/plain": [
              "<Figure size 432x288 with 1 Axes>"
            ]
          },
          "metadata": {
            "tags": []
          }
        }
      ]
    },
    {
      "cell_type": "markdown",
      "metadata": {
        "id": "avXDVjHcuD7-",
        "colab_type": "text"
      },
      "source": [
        "**Regressão logística**"
      ]
    },
    {
      "cell_type": "code",
      "metadata": {
        "id": "TZymcX5dRpR8",
        "colab_type": "code",
        "colab": {}
      },
      "source": [
        "import numpy as np    \n",
        "from sklearn.linear_model import LogisticRegression\n",
        "from sklearn.preprocessing import StandardScaler\n",
        "import pandas as pd\n",
        "import matplotlib.pyplot as plt"
      ],
      "execution_count": 0,
      "outputs": []
    },
    {
      "cell_type": "code",
      "metadata": {
        "id": "Vja42fJBRr_P",
        "colab_type": "code",
        "colab": {}
      },
      "source": [
        "x1 = np.random.randn(100)\n",
        "x2 = np.random.randn(100)\n",
        "x3 = np.random.randn(100)\n",
        "\n",
        "#Make difference in feature dependance\n",
        "y = (3 + x1 + 2*x2 + 5*x3 + 0.2*np.random.randn()) > 0\n",
        "\n",
        "X = pd.DataFrame({'x1':x1,'x2':x2,'x3':x3})"
      ],
      "execution_count": 0,
      "outputs": []
    },
    {
      "cell_type": "code",
      "metadata": {
        "id": "rxJtdjQPRMGG",
        "colab_type": "code",
        "colab": {
          "base_uri": "https://localhost:8080/",
          "height": 102
        },
        "outputId": "d4611953-d27c-4576-ac96-74a65ad94ecb"
      },
      "source": [
        "#Scale your data\n",
        "scaler = StandardScaler()\n",
        "scaler.fit(X) \n",
        "X_scaled = pd.DataFrame(scaler.transform(X),columns = X.columns)\n",
        "\n",
        "clf = LogisticRegression(random_state = 0)\n",
        "clf.fit(X_scaled, y)"
      ],
      "execution_count": 20,
      "outputs": [
        {
          "output_type": "execute_result",
          "data": {
            "text/plain": [
              "LogisticRegression(C=1.0, class_weight=None, dual=False, fit_intercept=True,\n",
              "                   intercept_scaling=1, l1_ratio=None, max_iter=100,\n",
              "                   multi_class='auto', n_jobs=None, penalty='l2',\n",
              "                   random_state=0, solver='lbfgs', tol=0.0001, verbose=0,\n",
              "                   warm_start=False)"
            ]
          },
          "metadata": {
            "tags": []
          },
          "execution_count": 20
        }
      ]
    },
    {
      "cell_type": "code",
      "metadata": {
        "id": "S2d6fTHwR1eZ",
        "colab_type": "code",
        "colab": {
          "base_uri": "https://localhost:8080/",
          "height": 297
        },
        "outputId": "5e04ff7e-5a2b-4619-df5c-0c5df9b58381"
      },
      "source": [
        "feature_importance = abs(clf.coef_[0])\n",
        "feature_importance = 100.0 * (feature_importance / feature_importance.max())\n",
        "sorted_idx = np.argsort(feature_importance)\n",
        "pos = np.arange(sorted_idx.shape[0]) + .5\n",
        "\n",
        "featfig = plt.figure()\n",
        "featax = featfig.add_subplot(1, 1, 1)\n",
        "featax.barh(pos, feature_importance[sorted_idx], align='center')\n",
        "featax.set_yticks(pos)\n",
        "featax.set_yticklabels(np.array(X.columns)[sorted_idx], fontsize=8)\n",
        "featax.set_xlabel('Relative Feature Importance')\n",
        "\n",
        "plt.tight_layout()   \n",
        "plt.show()"
      ],
      "execution_count": 25,
      "outputs": [
        {
          "output_type": "display_data",
          "data": {
            "image/png": "[encoded data removed]",
            "text/plain": [
              "<Figure size 432x288 with 1 Axes>"
            ]
          },
          "metadata": {
            "tags": []
          }
        }
      ]
    }
  ]
}