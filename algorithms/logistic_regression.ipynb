{
  "nbformat": 4,
  "nbformat_minor": 0,
  "metadata": {
    "colab": {
      "name": "logistic_regression.ipynb",
      "provenance": [],
      "authorship_tag": "ABX9TyMJ6RnE4iDbUAD//zNm7rPI",
      "include_colab_link": true
    },
    "kernelspec": {
      "name": "python3",
      "display_name": "Python 3"
    }
  },
  "cells": [
    {
      "cell_type": "markdown",
      "metadata": {
        "id": "view-in-github",
        "colab_type": "text"
      },
      "source": [
        "<a href=\"https://colab.research.google.com/github/ivynasantino/deeplearning/blob/master/algorithms/logistic_regression.ipynb\" target=\"_parent\"><img src=\"https://colab.research.google.com/assets/colab-badge.svg\" alt=\"Open In Colab\"/></a>"
      ]
    },
    {
      "cell_type": "code",
      "metadata": {
        "id": "XmPY_rd6nziR",
        "colab_type": "code",
        "colab": {}
      },
      "source": [
        "import numpy as np    \n",
        "from sklearn.linear_model import LogisticRegression\n",
        "from sklearn.preprocessing import StandardScaler\n",
        "import pandas as pd\n",
        "import matplotlib.pyplot as plt\n",
        "\n",
        "import warnings\n",
        "warnings.filterwarnings('ignore')"
      ],
      "execution_count": 0,
      "outputs": []
    },
    {
      "cell_type": "code",
      "metadata": {
        "id": "bUBxuHCqn7X8",
        "colab_type": "code",
        "colab": {}
      },
      "source": [
        "x1 = np.random.randn(100)\n",
        "x2 = np.random.randn(100)\n",
        "x3 = np.random.randn(100)\n",
        "\n",
        "#Make difference in feature dependance\n",
        "y = (3 + x1 + 2*x2 + 5*x3 + 0.2*np.random.randn()) > 0\n",
        "\n",
        "X = pd.DataFrame({'x1':x1,'x2':x2,'x3':x3})"
      ],
      "execution_count": 0,
      "outputs": []
    },
    {
      "cell_type": "code",
      "metadata": {
        "id": "DWuj2Srun_PV",
        "colab_type": "code",
        "colab": {}
      },
      "source": [
        "#Scale your data\n",
        "scaler = StandardScaler()\n",
        "scaler.fit(X) \n",
        "X_scaled = pd.DataFrame(scaler.transform(X),columns = X.columns)\n",
        "\n",
        "clf = LogisticRegression(random_state = 0)\n",
        "clf.fit(X_scaled, y)\n",
        "\n",
        "warnings.filterwarnings(action='once')"
      ],
      "execution_count": 0,
      "outputs": []
    },
    {
      "cell_type": "code",
      "metadata": {
        "id": "DPXm8LByoBOu",
        "colab_type": "code",
        "colab": {
          "base_uri": "https://localhost:8080/",
          "height": 297
        },
        "outputId": "4d7018e5-2ace-4dad-ec11-9a776e7cba85"
      },
      "source": [
        "feature_importance = abs(clf.coef_[0])\n",
        "feature_importance = 100.0 * (feature_importance / feature_importance.max())\n",
        "sorted_idx = np.argsort(feature_importance)\n",
        "pos = np.arange(sorted_idx.shape[0]) + .5\n",
        "\n",
        "featfig = plt.figure()\n",
        "featax = featfig.add_subplot(1, 1, 1)\n",
        "featax.barh(pos, feature_importance[sorted_idx], align='center')\n",
        "featax.set_yticks(pos)\n",
        "featax.set_yticklabels(np.array(X.columns)[sorted_idx], fontsize=8)\n",
        "featax.set_xlabel('Relative Feature Importance')\n",
        "\n",
        "plt.tight_layout()   \n",
        "plt.show()"
      ],
      "execution_count": 12,
      "outputs": [
        {
          "output_type": "display_data",
          "data": {
            "image/png": "[encoded data removed]",
            "text/plain": [
              "<Figure size 432x288 with 1 Axes>"
            ]
          },
          "metadata": {
            "tags": []
          }
        }
      ]
    }
  ]
}