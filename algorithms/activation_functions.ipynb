{
  "nbformat": 4,
  "nbformat_minor": 0,
  "metadata": {
    "colab": {
      "name": "activation_functions.ipynb",
      "provenance": [],
      "authorship_tag": "ABX9TyN8YXLUTBRxgCzbrF0gj/eF",
      "include_colab_link": true
    },
    "kernelspec": {
      "name": "python3",
      "display_name": "Python 3"
    }
  },
  "cells": [
    {
      "cell_type": "markdown",
      "metadata": {
        "id": "view-in-github",
        "colab_type": "text"
      },
      "source": [
        "<a href=\"https://colab.research.google.com/github/ivynasantino/deeplearning/blob/master/algorithms/activation_functions.ipynb\" target=\"_parent\"><img src=\"https://colab.research.google.com/assets/colab-badge.svg\" alt=\"Open In Colab\"/></a>"
      ]
    },
    {
      "cell_type": "markdown",
      "metadata": {
        "id": "hYT93Bt4WlW4",
        "colab_type": "text"
      },
      "source": [
        "## Activation Function\n",
        "\n",
        "- Linear\n",
        "- Sigmoid\n",
        "- Tahn\n",
        "- ReLU"
      ]
    },
    {
      "cell_type": "code",
      "metadata": {
        "id": "sipdfPOpWikt",
        "colab_type": "code",
        "colab": {}
      },
      "source": [
        "import math\n",
        "import matplotlib.pyplot as plt\n",
        "import numpy as np\n",
        "\n",
        "import keras\n",
        "keras.__version__\n",
        "\n",
        "import warnings\n",
        "warnings.filterwarnings(\"ignore\")\n",
        "\n",
        "from keras.datasets import mnist\n",
        "from keras.utils import to_categorical\n",
        "from keras.models import Sequential\n",
        "from keras.layers import Dense\n",
        "from keras.optimizers import sgd\n",
        "\n",
        "arrange_nx = np.arange(-6, 6, 0.1)"
      ],
      "execution_count": 0,
      "outputs": []
    },
    {
      "cell_type": "code",
      "metadata": {
        "id": "FBewN8aXXQSK",
        "colab_type": "code",
        "colab": {
          "base_uri": "https://localhost:8080/",
          "height": 265
        },
        "outputId": "770d2329-1fb8-4ef8-b917-b16ae369e8c3"
      },
      "source": [
        "def linear(arrange_nx):\n",
        "  return [item for item in arrange_nx]\n",
        "\n",
        "y = linear(arrange_nx)\n",
        "\n",
        "plt.plot(arrange_nx,y)\n",
        "plt.grid()\n",
        "plt.show()"
      ],
      "execution_count": 4,
      "outputs": [
        {
          "output_type": "display_data",
          "data": {
            "image/png": "[encoded data removed]",
            "text/plain": [
              "<Figure size 432x288 with 1 Axes>"
            ]
          },
          "metadata": {
            "tags": []
          }
        }
      ]
    },
    {
      "cell_type": "code",
      "metadata": {
        "id": "yCNmcTxDX4U7",
        "colab_type": "code",
        "colab": {
          "base_uri": "https://localhost:8080/",
          "height": 265
        },
        "outputId": "f422f3c6-899a-4632-e206-477a1cec9621"
      },
      "source": [
        "def sigmoid(arrange_nx):\n",
        "  return [1/(1+math.exp(-item)) for item in arrange_nx]\n",
        "\n",
        "y = sigmoid(arrange_nx)\n",
        "\n",
        "plt.plot(arrange_nx,y)\n",
        "plt.grid()\n",
        "plt.show()"
      ],
      "execution_count": 5,
      "outputs": [
        {
          "output_type": "display_data",
          "data": {
            "image/png": "[encoded data removed]",
            "text/plain": [
              "<Figure size 432x288 with 1 Axes>"
            ]
          },
          "metadata": {
            "tags": []
          }
        }
      ]
    },
    {
      "cell_type": "code",
      "metadata": {
        "id": "u21BTb1FYJj8",
        "colab_type": "code",
        "colab": {
          "base_uri": "https://localhost:8080/",
          "height": 265
        },
        "outputId": "5e049ecf-4ca3-4ea3-8701-69b63a9a4d2b"
      },
      "source": [
        "def tanh(arrange_nx, derivative=False):\n",
        "  tanh_res = np.tanh(arrange_nx)\n",
        "  if (derivative):\n",
        "    tanh_res = (1 - (arrange_nx ** 2))\n",
        "\n",
        "  return tanh_res\n",
        "\n",
        "\n",
        "y = tanh(arrange_nx)\n",
        "\n",
        "plt.plot(arrange_nx,y)\n",
        "plt.grid()\n",
        "plt.show()"
      ],
      "execution_count": 6,
      "outputs": [
        {
          "output_type": "display_data",
          "data": {
            "image/png": "[encoded data removed]",
            "text/plain": [
              "<Figure size 432x288 with 1 Axes>"
            ]
          },
          "metadata": {
            "tags": []
          }
        }
      ]
    },
    {
      "cell_type": "code",
      "metadata": {
        "id": "Z4Pyd-_aYxQG",
        "colab_type": "code",
        "colab": {
          "base_uri": "https://localhost:8080/",
          "height": 265
        },
        "outputId": "cf681a40-09e2-4d0e-e5b1-e5e8cc096599"
      },
      "source": [
        "def relu(arrange_nx):\n",
        "  return [item if item > 0 else 0 for item in arrange_nx]\n",
        "\n",
        "y = relu(arrange_nx)\n",
        "\n",
        "plt.plot(arrange_nx,y)\n",
        "plt.grid()\n",
        "plt.show()"
      ],
      "execution_count": 8,
      "outputs": [
        {
          "output_type": "display_data",
          "data": {
            "image/png": "[encoded data removed]",
            "text/plain": [
              "<Figure size 432x288 with 1 Axes>"
            ]
          },
          "metadata": {
            "tags": []
          }
        }
      ]
    },
    {
      "cell_type": "markdown",
      "metadata": {
        "id": "nbORimEhaI0c",
        "colab_type": "text"
      },
      "source": [
        "### Models"
      ]
    },
    {
      "cell_type": "code",
      "metadata": {
        "id": "IJxXv9b3aPAT",
        "colab_type": "code",
        "colab": {
          "base_uri": "https://localhost:8080/",
          "height": 52
        },
        "outputId": "5b15415e-221b-492a-d8df-83d6133e07de"
      },
      "source": [
        "(train_images, train_labels), (test_images, test_labels) = mnist.load_data()\n",
        "(x_train, y_train), (x_test, y_test) = mnist.load_data()"
      ],
      "execution_count": 12,
      "outputs": [
        {
          "output_type": "stream",
          "text": [
            "Downloading data from https://s3.amazonaws.com/img-datasets/mnist.npz\n",
            "11493376/11490434 [==============================] - 1s 0us/step\n"
          ],
          "name": "stdout"
        }
      ]
    },
    {
      "cell_type": "code",
      "metadata": {
        "id": "a3wvTmrDapXq",
        "colab_type": "code",
        "colab": {}
      },
      "source": [
        "x_train = train_images.reshape(60000, 784)\n",
        "x_test = x_test.reshape(10000, 784)\n",
        "\n",
        "x_train = x_train.astype('float32')\n",
        "x_test = x_test.astype('float32')\n",
        "\n",
        "x_train /= 255\n",
        "x_test /= 255\n",
        "\n",
        "y_train = keras.utils.to_categorical(y_train, num_classes=10)\n",
        "y_test = keras.utils.to_categorical(y_test, num_classes=10)"
      ],
      "execution_count": 0,
      "outputs": []
    },
    {
      "cell_type": "markdown",
      "metadata": {
        "id": "3LstqN1vby7d",
        "colab_type": "text"
      },
      "source": [
        "### Linear"
      ]
    },
    {
      "cell_type": "code",
      "metadata": {
        "id": "6u2Csl1qbY3u",
        "colab_type": "code",
        "colab": {
          "base_uri": "https://localhost:8080/",
          "height": 282
        },
        "outputId": "5afb19a4-343e-4e78-8434-6885d70ca221"
      },
      "source": [
        "model_lin = Sequential()\n",
        "model_lin.add(Dense(10, activation='linear', input_shape=(784,)))\n",
        "model_lin.add(Dense(10, activation='softmax'))\n",
        "\n",
        "model_lin.summary()\n",
        "\n",
        "model_lin.compile(loss='categorical_crossentropy',\n",
        "              optimizer='sgd',\n",
        "              metrics=['accuracy'])\n",
        " \n",
        "epochs = 10\n",
        "model_lin.fit(x_train, y_train,\n",
        "          batch_size=batch_size,\n",
        "          epochs=epochs,\n",
        "          verbose=0)\n",
        "\n",
        "test_loss, test_acc = model_lin.evaluate(x_test, y_test)\n",
        "\n",
        "print('Model linear - Test loss:', test_loss)\n",
        "print('Model linear - Test accuracy:', test_acc)"
      ],
      "execution_count": 21,
      "outputs": [
        {
          "output_type": "stream",
          "text": [
            "Model: \"sequential_7\"\n",
            "_________________________________________________________________\n",
            "Layer (type)                 Output Shape              Param #   \n",
            "=================================================================\n",
            "dense_13 (Dense)             (None, 10)                7850      \n",
            "_________________________________________________________________\n",
            "dense_14 (Dense)             (None, 10)                110       \n",
            "=================================================================\n",
            "Total params: 7,960\n",
            "Trainable params: 7,960\n",
            "Non-trainable params: 0\n",
            "_________________________________________________________________\n",
            "10000/10000 [==============================] - 0s 25us/step\n",
            "Model linear - Test loss: 0.3091916818916798\n",
            "Model linear - Test accuracy: 0.9147\n"
          ],
          "name": "stdout"
        }
      ]
    },
    {
      "cell_type": "markdown",
      "metadata": {
        "id": "1SByfYhua6OL",
        "colab_type": "text"
      },
      "source": [
        "### Sigmoid"
      ]
    },
    {
      "cell_type": "code",
      "metadata": {
        "id": "9STpkReuatpH",
        "colab_type": "code",
        "colab": {
          "base_uri": "https://localhost:8080/",
          "height": 282
        },
        "outputId": "ad7f9400-dc35-41f2-b6f1-03b643f7c6ff"
      },
      "source": [
        "warnings.filterwarnings(\"ignore\")\n",
        "\n",
        "model_sig = Sequential()\n",
        "model_sig.add(Dense(10, activation='sigmoid', input_shape=(784,)))\n",
        "model_sig.add(Dense(10, activation='softmax'))\n",
        "\n",
        "model_sig.summary()\n",
        "\n",
        "batch_size = 100\n",
        "num_classes = 10\n",
        "epochs=5\n",
        "\n",
        "model_sig.compile(loss='categorical_crossentropy',\n",
        "              optimizer='sgd',\n",
        "              metrics=['accuracy'])\n",
        "\n",
        "model_sig.fit(x_train, y_train,\n",
        "          batch_size=batch_size,\n",
        "          epochs=epochs,\n",
        "          verbose=0)\n",
        "\n",
        "test_loss, test_acc = model_sig.evaluate(x_test, y_test)\n",
        "\n",
        "print('Test loss:', test_loss)\n",
        "print('Test accuracy:', test_acc)"
      ],
      "execution_count": 20,
      "outputs": [
        {
          "output_type": "stream",
          "text": [
            "Model: \"sequential_6\"\n",
            "_________________________________________________________________\n",
            "Layer (type)                 Output Shape              Param #   \n",
            "=================================================================\n",
            "dense_11 (Dense)             (None, 10)                7850      \n",
            "_________________________________________________________________\n",
            "dense_12 (Dense)             (None, 10)                110       \n",
            "=================================================================\n",
            "Total params: 7,960\n",
            "Trainable params: 7,960\n",
            "Non-trainable params: 0\n",
            "_________________________________________________________________\n",
            "10000/10000 [==============================] - 0s 25us/step\n",
            "Test loss: 1.2953252769470214\n",
            "Test accuracy: 0.6769\n"
          ],
          "name": "stdout"
        }
      ]
    },
    {
      "cell_type": "markdown",
      "metadata": {
        "id": "rtMdBK4Rb2lr",
        "colab_type": "text"
      },
      "source": [
        "### Tanh"
      ]
    },
    {
      "cell_type": "code",
      "metadata": {
        "id": "Lcf9PNagb4Fy",
        "colab_type": "code",
        "colab": {
          "base_uri": "https://localhost:8080/",
          "height": 282
        },
        "outputId": "f7b260b4-ee6d-405f-e54b-5e04b9853db3"
      },
      "source": [
        "model_tanh = Sequential()\n",
        "model_tanh.add(Dense(10, activation='tanh', input_shape=(784,)))\n",
        "model_tanh.add(Dense(10, activation='softmax'))\n",
        "\n",
        "model_tanh.summary()\n",
        "\n",
        "model_tanh.compile(loss='categorical_crossentropy',\n",
        "              optimizer='sgd',\n",
        "              metrics=['accuracy'])\n",
        " \n",
        "epochs = 10\n",
        "model_tanh.fit(x_train, y_train,\n",
        "          batch_size=batch_size,\n",
        "          epochs=epochs,\n",
        "          verbose=0)\n",
        "\n",
        "test_loss, test_acc = model_tanh.evaluate(x_test, y_test)\n",
        "\n",
        "print('Model tanh - Test loss:', test_loss)\n",
        "print('Model tanh - Test accuracy:', test_acc)"
      ],
      "execution_count": 22,
      "outputs": [
        {
          "output_type": "stream",
          "text": [
            "Model: \"sequential_8\"\n",
            "_________________________________________________________________\n",
            "Layer (type)                 Output Shape              Param #   \n",
            "=================================================================\n",
            "dense_15 (Dense)             (None, 10)                7850      \n",
            "_________________________________________________________________\n",
            "dense_16 (Dense)             (None, 10)                110       \n",
            "=================================================================\n",
            "Total params: 7,960\n",
            "Trainable params: 7,960\n",
            "Non-trainable params: 0\n",
            "_________________________________________________________________\n",
            "10000/10000 [==============================] - 0s 30us/step\n",
            "Model tanh - Test loss: 0.37527457304000855\n",
            "Model tanh - Test accuracy: 0.903\n"
          ],
          "name": "stdout"
        }
      ]
    },
    {
      "cell_type": "markdown",
      "metadata": {
        "id": "StXLY5pCbQHf",
        "colab_type": "text"
      },
      "source": [
        "### ReLU"
      ]
    },
    {
      "cell_type": "code",
      "metadata": {
        "id": "b3GZPgmjbPBV",
        "colab_type": "code",
        "colab": {
          "base_uri": "https://localhost:8080/",
          "height": 282
        },
        "outputId": "2ea447f4-89ef-4cb0-e3e6-50dcd5a442c9"
      },
      "source": [
        "batch_size = 100\n",
        "num_classes = 10\n",
        "epochs=5\n",
        "\n",
        "model_relu = Sequential()\n",
        "model_relu.add(Dense(10, activation='relu', input_shape=(784,)))\n",
        "model_relu.add(Dense(10, activation='softmax'))\n",
        "\n",
        "\n",
        "model_relu.summary()\n",
        "\n",
        "\n",
        "model_relu.compile(loss='categorical_crossentropy',\n",
        "              optimizer='sgd',\n",
        "              metrics=['accuracy'])\n",
        "\n",
        "model_relu.fit(x_train, y_train,\n",
        "          batch_size=batch_size,\n",
        "          epochs=epochs,\n",
        "          verbose=0)\n",
        "\n",
        "test_loss, test_acc = model_relu.evaluate(x_test, y_test)\n",
        "\n",
        "print('Model relu - Test loss:', test_loss)\n",
        "print('Model relu - Test accuracy:', test_acc)"
      ],
      "execution_count": 23,
      "outputs": [
        {
          "output_type": "stream",
          "text": [
            "Model: \"sequential_9\"\n",
            "_________________________________________________________________\n",
            "Layer (type)                 Output Shape              Param #   \n",
            "=================================================================\n",
            "dense_17 (Dense)             (None, 10)                7850      \n",
            "_________________________________________________________________\n",
            "dense_18 (Dense)             (None, 10)                110       \n",
            "=================================================================\n",
            "Total params: 7,960\n",
            "Trainable params: 7,960\n",
            "Non-trainable params: 0\n",
            "_________________________________________________________________\n",
            "10000/10000 [==============================] - 0s 28us/step\n",
            "Model relu - Test loss: 0.39977824921607974\n",
            "Model relu - Test accuracy: 0.8873\n"
          ],
          "name": "stdout"
        }
      ]
    }
  ]
}