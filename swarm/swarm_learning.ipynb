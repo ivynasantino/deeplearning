{
  "nbformat": 4,
  "nbformat_minor": 0,
  "metadata": {
    "colab": {
      "name": "swarm_learning.ipynb",
      "provenance": [],
      "authorship_tag": "ABX9TyOhKLKz4J1ZDDF/BneKCvYy",
      "include_colab_link": true
    },
    "kernelspec": {
      "name": "python3",
      "display_name": "Python 3"
    }
  },
  "cells": [
    {
      "cell_type": "markdown",
      "metadata": {
        "id": "view-in-github",
        "colab_type": "text"
      },
      "source": [
        "<a href=\"https://colab.research.google.com/github/ivynasantino/deeplearning/blob/master/swarm/swarm_learning.ipynb\" target=\"_parent\"><img src=\"https://colab.research.google.com/assets/colab-badge.svg\" alt=\"Open In Colab\"/></a>"
      ]
    },
    {
      "cell_type": "markdown",
      "metadata": {
        "id": "_2F7DHooZuTv",
        "colab_type": "text"
      },
      "source": [
        "## Treinando redes neurais com swarm learning"
      ]
    },
    {
      "cell_type": "code",
      "metadata": {
        "id": "3Cj6jFbc2Nbs",
        "colab_type": "code",
        "colab": {},
        "cellView": "form"
      },
      "source": [
        "# @title Instalando o pyswarms\n",
        "!pip install pyswarms"
      ],
      "execution_count": 0,
      "outputs": []
    },
    {
      "cell_type": "code",
      "metadata": {
        "id": "VrSCmkYs04Vz",
        "colab_type": "code",
        "colab": {},
        "cellView": "form"
      },
      "source": [
        "# @title Importando os módulos\n",
        "import numpy as np\n",
        "import matplotlib.pyplot as plt\n",
        "from sklearn.datasets import load_breast_cancer\n",
        "from sklearn.datasets import load_iris\n",
        "\n",
        "import pyswarms as ps\n",
        "\n",
        "%load_ext autoreload\n",
        "%autoreload 2"
      ],
      "execution_count": 0,
      "outputs": []
    },
    {
      "cell_type": "markdown",
      "metadata": {
        "id": "K12Pkr1VZDES",
        "colab_type": "text"
      },
      "source": [
        "Clássico dataset de classificação binária, com as seguintes características:\n",
        "  * Número de classes: 2\n",
        "  * Amostras por classe: Benigno (212) Maligno (357)\n",
        "  * Total de amostras: 569\n",
        "  * Dimensionalidade: 30"
      ]
    },
    {
      "cell_type": "code",
      "metadata": {
        "id": "NloDnzP3atJR",
        "colab_type": "code",
        "colab": {},
        "cellView": "form"
      },
      "source": [
        "# @title Carregando os dados\n",
        "breast_data = load_breast_cancer()"
      ],
      "execution_count": 0,
      "outputs": []
    },
    {
      "cell_type": "code",
      "metadata": {
        "id": "pe9ISek93GFE",
        "colab_type": "code",
        "colab": {}
      },
      "source": [
        "X = breast_data.data\n",
        "y = breast_data.target"
      ],
      "execution_count": 0,
      "outputs": []
    },
    {
      "cell_type": "code",
      "metadata": {
        "id": "ZwEK3f633M8u",
        "colab_type": "code",
        "colab": {}
      },
      "source": [
        "# Forward propagation\n",
        "def forward_prop(params):\n",
        "    \"\"\"Forward propagation as objective function\n",
        "    \n",
        "    This computes for the forward propagation of the neural network, as\n",
        "    well as the loss. It receives a set of parameters that must be \n",
        "    rolled-back into the corresponding weights and biases.\n",
        "    \n",
        "    Inputs\n",
        "    ------\n",
        "    params: np.ndarray\n",
        "        The dimensions should include an unrolled version of the \n",
        "        weights and biases.\n",
        "        \n",
        "    Returns\n",
        "    -------\n",
        "    float\n",
        "        The computed negative log-likelihood loss given the parameters\n",
        "    \"\"\"\n",
        "    # Neural network architecture\n",
        "    n_inputs = 30\n",
        "    n_hidden = 20\n",
        "    n_classes = 2\n",
        "    \n",
        "    # Roll-back the weights and biases\n",
        "    W1 = params[0:600].reshape((n_inputs,n_hidden))\n",
        "    b1 = params[600:620].reshape((n_hidden,))\n",
        "    W2 = params[620:660].reshape((n_hidden,n_classes))\n",
        "    b2 = params[660:662].reshape((n_classes,))\n",
        "    \n",
        "    # Perform forward propagation\n",
        "    z1 = X.dot(W1) + b1  # Pre-activation in Layer 1\n",
        "    a1 = np.tanh(z1)     # Activation in Layer 1\n",
        "    z2 = a1.dot(W2) + b2 # Pre-activation in Layer 2\n",
        "    logits = z2          # Logits for Layer 2\n",
        "    \n",
        "    # Compute for the softmax of the logits\n",
        "    exp_scores = np.exp(logits)\n",
        "    probs = exp_scores / np.sum(exp_scores, axis=1, keepdims=True) \n",
        "    \n",
        "    # Compute for the negative log likelihood\n",
        "    N = 569 # Number of samples\n",
        "    corect_logprobs = -np.log(probs[range(N), y])\n",
        "    loss = np.sum(corect_logprobs) / N\n",
        "    \n",
        "    return loss"
      ],
      "execution_count": 0,
      "outputs": []
    },
    {
      "cell_type": "code",
      "metadata": {
        "id": "lNU__LDh3ROE",
        "colab_type": "code",
        "colab": {}
      },
      "source": [
        "def f(x):\n",
        "    \"\"\"Higher-level method to do forward_prop in the \n",
        "    whole swarm.\n",
        "    \n",
        "    Inputs\n",
        "    ------\n",
        "    x: numpy.ndarray of shape (n_particles, dimensions)\n",
        "        The swarm that will perform the search\n",
        "        \n",
        "    Returns\n",
        "    -------\n",
        "    numpy.ndarray of shape (n_particles, )\n",
        "        The computed loss for each particle\n",
        "    \"\"\"\n",
        "    n_particles = x.shape[0]\n",
        "    j = [forward_prop(x[i]) for i in range(n_particles)]\n",
        "    return np.array(j)"
      ],
      "execution_count": 0,
      "outputs": []
    },
    {
      "cell_type": "code",
      "metadata": {
        "id": "FeBBwrNE3Um7",
        "colab_type": "code",
        "colab": {}
      },
      "source": [
        "%%time\n",
        "# Initialize swarm\n",
        "options = {'c1': 0.5, 'c2': 0.3, 'w':0.9}\n",
        "\n",
        "# Call instance of PSO\n",
        "dimensions = (30 * 20) + (20 * 2) + 20 + 2 \n",
        "optimizer = ps.single.GlobalBestPSO(n_particles=100, dimensions=dimensions, options=options)\n",
        "\n",
        "# Perform optimization\n",
        "cost, pos = optimizer.optimize(f, iters=1000)"
      ],
      "execution_count": 0,
      "outputs": []
    },
    {
      "cell_type": "code",
      "metadata": {
        "id": "6k7RmHt_36yK",
        "colab_type": "code",
        "colab": {}
      },
      "source": [
        "def predict(X, pos):\n",
        "    \"\"\"\n",
        "    Use the trained weights to perform class predictions.\n",
        "    \n",
        "    Inputs\n",
        "    ------\n",
        "    X: numpy.ndarray\n",
        "        Input Iris dataset\n",
        "    pos: numpy.ndarray\n",
        "        Position matrix found by the swarm. Will be rolled\n",
        "        into weights and biases.\n",
        "    \"\"\"\n",
        "    # Neural network architecture\n",
        "    n_inputs = 30\n",
        "    n_hidden = 20\n",
        "    n_classes = 2\n",
        "    \n",
        "    # Roll-back the weights and biases\n",
        "    W1 = pos[0:600].reshape((n_inputs,n_hidden))\n",
        "    b1 = pos[600:620].reshape((n_hidden,))\n",
        "    W2 = pos[620:660].reshape((n_hidden,n_classes))\n",
        "    b2 = pos[660:662].reshape((n_classes,))\n",
        "    \n",
        "    # Perform forward propagation\n",
        "    z1 = X.dot(W1) + b1  # Pre-activation in Layer 1\n",
        "    a1 = np.tanh(z1)     # Activation in Layer 1\n",
        "    z2 = a1.dot(W2) + b2 # Pre-activation in Layer 2\n",
        "    logits = z2          # Logits for Layer 2\n",
        "    \n",
        "    y_pred = np.argmax(logits, axis=1)\n",
        "    return y_pred"
      ],
      "execution_count": 0,
      "outputs": []
    },
    {
      "cell_type": "code",
      "metadata": {
        "id": "2v9eKcUA3-Vp",
        "colab_type": "code",
        "outputId": "8cf0cc2b-7f0a-495c-d463-9ea7ddff9620",
        "colab": {
          "base_uri": "https://localhost:8080/",
          "height": 35
        }
      },
      "source": [
        "(predict(X, pos) == y).mean()"
      ],
      "execution_count": 47,
      "outputs": [
        {
          "output_type": "execute_result",
          "data": {
            "text/plain": [
              "0.9314586994727593"
            ]
          },
          "metadata": {
            "tags": []
          },
          "execution_count": 47
        }
      ]
    }
  ]
}