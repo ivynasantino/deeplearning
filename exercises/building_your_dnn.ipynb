{
  "nbformat": 4,
  "nbformat_minor": 0,
  "metadata": {
    "colab": {
      "name": "building_your_dnn.ipynb",
      "provenance": [],
      "authorship_tag": "ABX9TyO6ovf5CEFG0POWCQLmYBhx",
      "include_colab_link": true
    },
    "kernelspec": {
      "name": "python3",
      "display_name": "Python 3"
    }
  },
  "cells": [
    {
      "cell_type": "markdown",
      "metadata": {
        "id": "view-in-github",
        "colab_type": "text"
      },
      "source": [
        "<a href=\"https://colab.research.google.com/github/ivynasantino/deeplearning/blob/master/exercises/building_your_dnn.ipynb\" target=\"_parent\"><img src=\"https://colab.research.google.com/assets/colab-badge.svg\" alt=\"Open In Colab\"/></a>"
      ]
    },
    {
      "cell_type": "markdown",
      "metadata": {
        "id": "qLiXUY_odtGR",
        "colab_type": "text"
      },
      "source": [
        "**Atividade 5**\n",
        "\n",
        "Building your Deep Neural Network: Step by Step\n",
        "Welcome to your third programming exercise of the deep learning specialization. You will implement all the building blocks of a neural network and use these building blocks in the next assignment to build a neural network of any architecture you want. By completing this assignment you will:\n",
        "\n",
        "- Develop an intuition of the over all structure of a neural network.\n",
        "\n",
        "- Write functions (e.g. forward propagation, backward propagation, logistic loss, etc...) that would help you decompose your code and ease the process of building a neural network.\n",
        "\n",
        "- Initialize/update parameters according to your desired structure.\n",
        "\n",
        "This assignment prepares you well for the upcoming assignment. Take your time to complete it and make sure you get the expected outputs when working through the different exercises. In some code blocks, you will find a \"#GRADED FUNCTION: functionName\" comment. Please do not modify it. After you are done, submit your work and check your results. You need to score 70% to pass. Good luck :) !"
      ]
    }
  ]
}