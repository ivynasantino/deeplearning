{
  "nbformat": 4,
  "nbformat_minor": 0,
  "metadata": {
    "colab": {
      "name": "Initialization.ipynb",
      "provenance": [],
      "authorship_tag": "ABX9TyMZ/vdiYZQqDQ2CkPakAhUX",
      "include_colab_link": true
    },
    "kernelspec": {
      "name": "python3",
      "display_name": "Python 3"
    }
  },
  "cells": [
    {
      "cell_type": "markdown",
      "metadata": {
        "id": "view-in-github",
        "colab_type": "text"
      },
      "source": [
        "<a href=\"https://colab.research.google.com/github/ivynasantino/deeplearning/blob/master/Initialization.ipynb\" target=\"_parent\"><img src=\"https://colab.research.google.com/assets/colab-badge.svg\" alt=\"Open In Colab\"/></a>"
      ]
    },
    {
      "cell_type": "markdown",
      "metadata": {
        "id": "o5FqdiPynPT0",
        "colab_type": "text"
      },
      "source": [
        "Welcome to the first assignment of the hyper parameters tuning specialization. It is very important that you regularize your model properly because it could dramatically improve your results.\n",
        "\n",
        "By completing this assignment you will:\n",
        "\n",
        "- Understand that different initialization methods and their impact on your model performance\n",
        "\n",
        "- Implement zero initialization and and see it fails to \"break symmetry\",\n",
        "\n",
        "- Recognize that random initialization \"breaks symmetry\" and yields more efficient models,\n",
        "\n",
        "- Understand that you could use both random initialization and scaling to get even better training performance on your model.\n",
        "\n",
        "This assignment prepares you well for the upcoming assignment. Take your time to complete it and make sure you get the expected outputs when working through the different exercises. In some code blocks, you will find a \"#GRADED FUNCTION: functionName\" comment. Please do not modify it. After you are done, submit your work and check your results. You need to score 80% to pass. Good luck :) !"
      ]
    }
  ]
}