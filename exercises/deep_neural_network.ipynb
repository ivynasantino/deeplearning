{
  "nbformat": 4,
  "nbformat_minor": 0,
  "metadata": {
    "colab": {
      "name": "deep_neural_network.ipynb",
      "provenance": [],
      "authorship_tag": "ABX9TyNvY3UTz0zyvniheXpmSF+0",
      "include_colab_link": true
    },
    "kernelspec": {
      "name": "python3",
      "display_name": "Python 3"
    }
  },
  "cells": [
    {
      "cell_type": "markdown",
      "metadata": {
        "id": "view-in-github",
        "colab_type": "text"
      },
      "source": [
        "<a href=\"https://colab.research.google.com/github/ivynasantino/deeplearning/blob/master/exercises/deep_neural_network.ipynb\" target=\"_parent\"><img src=\"https://colab.research.google.com/assets/colab-badge.svg\" alt=\"Open In Colab\"/></a>"
      ]
    },
    {
      "cell_type": "markdown",
      "metadata": {
        "id": "GDnzX60zck6l",
        "colab_type": "text"
      },
      "source": [
        "**Atividade 4**\n",
        "\n",
        "Deep Neural Network - Application\n",
        "Congratulations! Welcome to the fourth programming exercise of the deep learning specialization. You will now use everything you have learned to build a deep neural network that classifies cat vs. non-cat images.\n",
        "\n",
        "In the second exercise, you used logistic regression to build cat vs. non-cat images and got a 68% accuracy. Your algorithm will now give you an 80% accuracy! By completing this assignment, you will:\n",
        "\n",
        "![alt text](https://d3c33hcgiwev3.cloudfront.net/imageAssetProxy.v1/v_KGeHreEeeOygpRbdVQKg_d061cd43ce2f81714837043cd24d2255_Screen-Shot-2017-08-06-at-12.37.35-PM.png?expiry=1584057600000&hmac=iKTV-xPx27eR41S8rc0ECn2aXJnqVk0J0Rbl6O1CbR8)\n",
        "\n",
        "- Learn how to use all the helper functions you built in the previous assignment to build a model of any structure you want.\n",
        "\n",
        "- Experiment with different model architectures and see how each one behaves.\n",
        "\n",
        "- Recognize that it is always easier to build your helper functions before attempting to build a neural network from scratch.\n",
        "\n",
        "This assignment prepares you well for the next course which dives deep into the techniques and strategies for parameters tuning and initializations. Take your time to complete this assignment and make sure you get the expected outputs when working through the different exercises. In some code blocks, you will find a \"#GRADED FUNCTION: functionName\" comment. Please do not modify it. After you are done, submit your work and check your results. You need to score 70% to pass. Good luck :) !"
      ]
    }
  ]
}