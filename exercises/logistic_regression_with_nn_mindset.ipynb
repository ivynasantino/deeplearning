{
  "nbformat": 4,
  "nbformat_minor": 0,
  "metadata": {
    "colab": {
      "name": "logistic_regression_with_nn_mindset.ipynb",
      "provenance": [],
      "authorship_tag": "ABX9TyMaaSz/iEd/2Jv2Eynxl8IW",
      "include_colab_link": true
    },
    "kernelspec": {
      "name": "python3",
      "display_name": "Python 3"
    }
  },
  "cells": [
    {
      "cell_type": "markdown",
      "metadata": {
        "id": "view-in-github",
        "colab_type": "text"
      },
      "source": [
        "<a href=\"https://colab.research.google.com/github/ivynasantino/deeplearning/blob/master/exercises/logistic_regression_with_nn_mindset.ipynb\" target=\"_parent\"><img src=\"https://colab.research.google.com/assets/colab-badge.svg\" alt=\"Open In Colab\"/></a>"
      ]
    },
    {
      "cell_type": "markdown",
      "metadata": {
        "id": "bOPwHU7LnRLg",
        "colab_type": "text"
      },
      "source": [
        "**Atividade 2**\n",
        "\n",
        "Logistic Regression with a Neural Network mindset\n",
        "Welcome to the first (required) programming exercise of the deep learning specialization. In this notebook you will build your first image recognition algorithm. You will build a cat classifier that recognizes cats with 70% accuracy!\n",
        "\n",
        "As you keep learning new techniques you will increase it to 80+ % accuracy on cat vs. non-cat datasets. By completing this assignment you will:\n",
        "\n",
        "![alt text](https://d3c33hcgiwev3.cloudfront.net/imageAssetProxy.v1/3GDwQXrhEee6mw7xN92yoA_c36b695905cda00b9b2b04db81566c24_Screen-Shot-2017-08-06-at-12.59.40-PM.png?expiry=1584057600000&hmac=fvIhBy6RnO5Bz6UuDRlTrYAhZMWQyohcuHZ5Nr9RzT0)\n",
        "\n",
        "- Work with logistic regression in a way that builds intuition relevant to neural networks.\n",
        "\n",
        "- Learn how to minimize the cost function.\n",
        "\n",
        "- Understand how derivatives of the cost are used to update parameters.\n",
        "\n",
        "Take your time to complete this assignment and make sure you get the expected outputs when working through the different exercises. In some code blocks, you will find a \"#GRADED FUNCTION: functionName\" comment. Please do not modify these comments. After you are done, submit your work and check your results. You need to score 70% to pass. Good luck :) !\n",
        "\n"
      ]
    }
  ]
}