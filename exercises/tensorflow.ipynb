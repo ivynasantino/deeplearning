{
  "nbformat": 4,
  "nbformat_minor": 0,
  "metadata": {
    "colab": {
      "name": "tensorflow.ipynb",
      "provenance": [],
      "authorship_tag": "ABX9TyMEGhKAp1Q0NE0v3emd85/k",
      "include_colab_link": true
    },
    "kernelspec": {
      "name": "python3",
      "display_name": "Python 3"
    }
  },
  "cells": [
    {
      "cell_type": "markdown",
      "metadata": {
        "id": "view-in-github",
        "colab_type": "text"
      },
      "source": [
        "<a href=\"https://colab.research.google.com/github/ivynasantino/deeplearning/blob/master/exercises/tensorflow.ipynb\" target=\"_parent\"><img src=\"https://colab.research.google.com/assets/colab-badge.svg\" alt=\"Open In Colab\"/></a>"
      ]
    },
    {
      "cell_type": "markdown",
      "metadata": {
        "id": "mja13UsA66KB",
        "colab_type": "text"
      },
      "source": [
        "Welcome to the Tensorflow Tutorial! In this notebook you will learn all the basics of Tensorflow. You will implement useful functions and draw the parallel with what you did using Numpy. You will understand what Tensors and operations are, as well as how to execute them in a computation graph.\n",
        "\n",
        "After completing this assignment you will also be able to implement your own deep learning models using Tensorflow. In fact, using our brand new SIGNS dataset, you will build a deep neural network model to recognize numbers from 0 to 5 in sign language with a pretty impressive accuracy.\n",
        "\n",
        "![alt text](https://d3c33hcgiwev3.cloudfront.net/imageAssetProxy.v1/CyJez3r0Eeeumw4MySoK5g_018fdee0e2abd100e1e8b37346fc1bc8_Screen-Shot-2017-08-06-at-2.44.12-PM.png?expiry=1584662400000&hmac=FRmjU-n4uSbdaZgCLTOQuToiXZ5lE5V8XeP5ISuROII)"
      ]
    }
  ]
}