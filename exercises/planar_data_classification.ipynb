{
  "nbformat": 4,
  "nbformat_minor": 0,
  "metadata": {
    "colab": {
      "name": "planar_data_classification.ipynb",
      "provenance": [],
      "authorship_tag": "ABX9TyMzsoTuNHKbrMXSjTNRvlvq",
      "include_colab_link": true
    },
    "kernelspec": {
      "name": "python3",
      "display_name": "Python 3"
    }
  },
  "cells": [
    {
      "cell_type": "markdown",
      "metadata": {
        "id": "view-in-github",
        "colab_type": "text"
      },
      "source": [
        "<a href=\"https://colab.research.google.com/github/ivynasantino/deeplearning/blob/master/exercises/planar_data_classification.ipynb\" target=\"_parent\"><img src=\"https://colab.research.google.com/assets/colab-badge.svg\" alt=\"Open In Colab\"/></a>"
      ]
    },
    {
      "cell_type": "markdown",
      "metadata": {
        "id": "WRdDSLzWl0bA",
        "colab_type": "text"
      },
      "source": [
        "**Atividade 3**\n",
        "\n",
        "Planar data classification with a hidden layer\n",
        "Welcome to the second programming exercise of the deep learning specialization. In this notebook you will generate red and blue points to form a flower. You will then fit a neural network to correctly classify the points. You will try different layers and see the results.\n",
        "\n",
        "\n",
        "By completing this assignment you will:\n",
        "\n",
        "![alt text](https://d3c33hcgiwev3.cloudfront.net/imageAssetProxy.v1/ZWaFhXvJEee4vAqXrrsRwg_d82c6d2cd5729c93fb76e37260abcbd2_Screen-Shot-2017-08-07-at-4.36.57-PM.png?expiry=1584057600000&hmac=V6woXFR2Nvj1qDDORbItshQ8h8_NWQpjiPQdapl-VDU)\n",
        "\n",
        "- Develop an intuition of back-propagation and see it work on data.\n",
        "\n",
        "- Recognize that the more hidden layers you have the more complex structure you could capture.\n",
        "\n",
        "- Build all the helper functions to implement a full model with one hidden layer.\n",
        "\n",
        "This assignment prepares you well for the upcoming assignment. Take your time to complete it and make sure you get the expected outputs when working through the different exercises. In some code blocks, you will find a \"#GRADED FUNCTION: functionName\" comment. Please do not modify it. After you are done, submit your work and check your results. You need to score 70% to pass. Good luck :) !\n"
      ]
    }
  ]
}