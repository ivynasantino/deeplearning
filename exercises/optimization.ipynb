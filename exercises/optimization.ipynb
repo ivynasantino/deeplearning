{
  "nbformat": 4,
  "nbformat_minor": 0,
  "metadata": {
    "colab": {
      "name": "optimization.ipynb",
      "provenance": [],
      "authorship_tag": "ABX9TyPWXDe3/xLrAdGU3lj8chgC",
      "include_colab_link": true
    },
    "kernelspec": {
      "name": "python3",
      "display_name": "Python 3"
    }
  },
  "cells": [
    {
      "cell_type": "markdown",
      "metadata": {
        "id": "view-in-github",
        "colab_type": "text"
      },
      "source": [
        "<a href=\"https://colab.research.google.com/github/ivynasantino/deeplearning/blob/master/exercises/optimization.ipynb\" target=\"_parent\"><img src=\"https://colab.research.google.com/assets/colab-badge.svg\" alt=\"Open In Colab\"/></a>"
      ]
    },
    {
      "cell_type": "markdown",
      "metadata": {
        "id": "u9AMiG2pq_H3",
        "colab_type": "text"
      },
      "source": [
        "Welcome to the optimization's programming assignment of the hyper-parameters tuning specialization. There are many different optimization algorithms you could be using to get you to the minimal cost. Similarly, there are many different paths down this hill to the lowest point.\n",
        "\n",
        "By completing this assignment you will:\n",
        "\n",
        "![alt text](https://d3c33hcgiwev3.cloudfront.net/imageAssetProxy.v1/NUVSD3ruEeeA3RJRlG3Uqg_2928bab8a68cf1f52b579c818f430d0f_Screen-Shot-2017-08-06-at-2.28.19-PM.png?expiry=1584489600000&hmac=ntXfvQxLjX6mc-IWHJ-_pcDJ8zHny5o0naclvVsZtik)\n",
        "\n",
        "- Understand the intuition between Adam and RMS prop\n",
        "\n",
        "- Recognize the importance of mini-batch gradient descent\n",
        "\n",
        "- Learn the effects of momentum on the overall performance of your model\n",
        "\n",
        "This assignment prepares you well for the upcoming assignment. Take your time to complete it and make sure you get the expected outputs when working through the different exercises. In some code blocks, you will find a \"#GRADED FUNCTION: functionName\" comment. Please do not modify it. After you are done, submit your work and check your results. You need to score 80% to pass. Good luck :) !\n",
        "\n"
      ]
    }
  ]
}