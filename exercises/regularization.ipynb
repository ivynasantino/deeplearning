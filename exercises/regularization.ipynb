{
  "nbformat": 4,
  "nbformat_minor": 0,
  "metadata": {
    "colab": {
      "name": "regularization.ipynb",
      "provenance": [],
      "authorship_tag": "ABX9TyMgwXtMnyVOwWlB8QXCjxRc",
      "include_colab_link": true
    },
    "kernelspec": {
      "name": "python3",
      "display_name": "Python 3"
    }
  },
  "cells": [
    {
      "cell_type": "markdown",
      "metadata": {
        "id": "view-in-github",
        "colab_type": "text"
      },
      "source": [
        "<a href=\"https://colab.research.google.com/github/ivynasantino/deeplearning/blob/master/exercises/regularization.ipynb\" target=\"_parent\"><img src=\"https://colab.research.google.com/assets/colab-badge.svg\" alt=\"Open In Colab\"/></a>"
      ]
    },
    {
      "cell_type": "markdown",
      "metadata": {
        "id": "u91bCDdPFPGA",
        "colab_type": "text"
      },
      "source": [
        "**Atividade 6**\n",
        "\n",
        "Welcome to the first assignment of the hyper parameters tuning specialization. It is very important that you regularize your model properly because it could dramatically improve your results.\n",
        "\n",
        "By completing this assignment you will:\n",
        "\n",
        "![alt text](https://d3c33hcgiwev3.cloudfront.net/imageAssetProxy.v1/z9Qch3rqEee6mw7xN92yoA_81f2483ae96041bb5da92b97fa79ca1c_Screen-Shot-2017-08-06-at-1.56.13-PM.png?expiry=1584144000000&hmac=fnq6BGw5kn5fKGD5qlPFRN172sAG6FhDsaAExZs5bX0)\n",
        "\n",
        "- Understand that different regularization methods that could help your model.\n",
        "\n",
        "- Implement dropout and see it work on data.\n",
        "\n",
        "- Recognize that a model without regularization gives you a better accuracy on the training set but nor necessarily on the test set.\n",
        "\n",
        "- Understand that you could use both dropout and regularization on your model.\n",
        "\n",
        "This assignment prepares you well for the upcoming assignment. Take your time to complete it and make sure you get the expected outputs when working through the different exercises. In some code blocks, you will find a \"#GRADED FUNCTION: functionName\" comment. Please do not modify it. After you are done, submit your work and check your results. You need to score 80% to pass. Good luck :) !\n",
        "\n"
      ]
    }
  ]
}